{
  "nbformat": 4,
  "nbformat_minor": 0,
  "metadata": {
    "kernelspec": {
      "display_name": "Python 3",
      "language": "python",
      "name": "python3"
    },
    "language_info": {
      "codemirror_mode": {
        "name": "ipython",
        "version": 3
      },
      "file_extension": ".py",
      "mimetype": "text/x-python",
      "name": "python",
      "nbconvert_exporter": "python",
      "pygments_lexer": "ipython3",
      "version": "3.6.5"
    },
    "colab": {
      "provenance": []
    }
  },
  "cells": [
    {
      "cell_type": "markdown",
      "metadata": {
        "id": "wQ_rVRaN_Qep"
      },
      "source": [
        "# Alguns exercícios resolvidos"
      ]
    },
    {
      "cell_type": "markdown",
      "metadata": {
        "id": "UP0TSBPWbaBd"
      },
      "source": [
        "# 1"
      ]
    },
    {
      "cell_type": "markdown",
      "metadata": {
        "id": "AhVdMwmotHI-"
      },
      "source": [
        "O cálculo do volume de uma esfera de raio R\n",
        "é feito pela fórmula\n",
        "$$V=\\frac{4  \\pi  R^3}{3}.$$\n",
        "\n",
        "Faça um programa que calcula e depois mostra na tela o volume de uma esfera de raio 6. Formatar a sua resposta com duas casas decimais utilizando este comando: `print(\"%.2f\" % (resposta)`.\n"
      ]
    },
    {
      "cell_type": "markdown",
      "metadata": {
        "id": "SgjcczONcTsI"
      },
      "source": [
        "**RESPOSTA**"
      ]
    },
    {
      "cell_type": "markdown",
      "metadata": {
        "id": "N1HX54Aaz16B"
      },
      "source": [
        "Para calcular o volume de uma esfera de raio R precisamos da constante (número) $\\pi$.\n",
        "\n",
        "Portanto, iremos importar a biblioteca `math`.\n",
        "\n",
        "Para acessar a constante $\\pi$ em Python, utilizamos `math.pi`\n",
        "\n",
        "Lembre-se ainda que a operação de potenciação é denotada por `**` em Python. Ou seja, para calcular $R^3$, precisamos escrever `R**3`."
      ]
    },
    {
      "cell_type": "code",
      "metadata": {
        "id": "ZBbUN6xKUqp_",
        "colab": {
          "base_uri": "https://localhost:8080/"
        },
        "outputId": "4e21adee-3eeb-42ba-9fcf-25bfc67e54f0"
      },
      "source": [
        "import math                 # importamos a biblioteca math\n",
        "R = 6                       # criamos a variavel R e atribuimos o valor de raio (6) a ela\n",
        "V = (4 * math.pi * R**3)/3  # calculamos o valor de volume e atribuimos esse valor a variavel V\n",
        "print(\"%.2f\" % V )           # imprimimos o volume com duas casas decimais"
      ],
      "execution_count": null,
      "outputs": [
        {
          "output_type": "stream",
          "name": "stdout",
          "text": [
            "904.78\n"
          ]
        }
      ]
    },
    {
      "cell_type": "markdown",
      "metadata": {
        "id": "SrqnmvIPMDk-"
      },
      "source": [
        "# 2 (a)\n"
      ]
    },
    {
      "cell_type": "markdown",
      "metadata": {
        "id": "74A1fBJPMF9V"
      },
      "source": [
        "Transforme e imprima quanto é $267580$ mililitros em litros, sem a parte decimal (ou seja, descartando os valores das casas decimais)."
      ]
    },
    {
      "cell_type": "markdown",
      "metadata": {
        "id": "cTT9JLBLPTk2"
      },
      "source": [
        "**RESPOSTA**"
      ]
    },
    {
      "cell_type": "markdown",
      "metadata": {
        "id": "n-DnvelZOFpu"
      },
      "source": [
        "Primeira maneira de fazer seria fazer a divisão inteira de $267580$ por $1000$."
      ]
    },
    {
      "cell_type": "code",
      "source": [
        "M = 267580\n",
        "L = M/1000\n",
        "print (L)"
      ],
      "metadata": {
        "colab": {
          "base_uri": "https://localhost:8080/"
        },
        "id": "k_nRhS57Ze9w",
        "outputId": "a4db4069-d16c-470a-bd2f-201bf84d1b18"
      },
      "execution_count": null,
      "outputs": [
        {
          "output_type": "stream",
          "name": "stdout",
          "text": [
            "267.58\n"
          ]
        }
      ]
    },
    {
      "cell_type": "code",
      "metadata": {
        "id": "fgtwrJYJOQLm",
        "colab": {
          "base_uri": "https://localhost:8080/"
        },
        "outputId": "b41b5151-2d6b-4f3d-a3a4-d216cdf3f741"
      },
      "source": [
        "M = 267580                       # criamos a variavel chamada M e atribuimos o valor dado para ela\n",
        "L = 267580//1000                 # calculamos o volume em litros, já descartando os valores das casas decimais, usando divisão inteira\n",
        "print (L)                        # imprimimos o volume em litros"
      ],
      "execution_count": null,
      "outputs": [
        {
          "output_type": "stream",
          "name": "stdout",
          "text": [
            "267\n"
          ]
        }
      ]
    },
    {
      "cell_type": "markdown",
      "metadata": {
        "id": "UScACPCHXz2c"
      },
      "source": [
        "Outra maneira de fazer seria fazer a divisão de $267580$ por $1000$, e imprimir este número sem casas decimais usando `int() `."
      ]
    },
    {
      "cell_type": "code",
      "metadata": {
        "id": "b60fohbfMic9",
        "colab": {
          "base_uri": "https://localhost:8080/"
        },
        "outputId": "855ebbcd-dbf7-45c4-b483-f645240b77ac"
      },
      "source": [
        "M = 267580                       # criamos a variavel chamada M e atribuimos o valor dado para ela\n",
        "L = M / 1000                     # calculamos o volume em litros (com casas decimais) e atribuimos a variavel L\n",
        "print (int(L))                   # imprimimos o volume em litros sem a parte decimal, transformando o numero L em inteiro"
      ],
      "execution_count": null,
      "outputs": [
        {
          "output_type": "stream",
          "name": "stdout",
          "text": [
            "267\n"
          ]
        }
      ]
    },
    {
      "cell_type": "markdown",
      "metadata": {
        "id": "1_1zEv1TVjQF"
      },
      "source": [
        "Outra maneira de fazer seria fazer a divisão de $267580$ por $1000$, e imprimir este número sem casas decimais usando operador ` math.floor()`."
      ]
    },
    {
      "cell_type": "code",
      "metadata": {
        "id": "KNbm8BgOW3ZD",
        "colab": {
          "base_uri": "https://localhost:8080/"
        },
        "outputId": "cf8dfc6a-3348-48c4-d323-ec59aa3f3e3d"
      },
      "source": [
        "M = 267580                       # criamos a variavel chamada M e atribuimos o valor dado para ela\n",
        "L = M/1000                       # calculamos o volume em litros (com casas decimais) e atribuimos a variavel L\n",
        "print (math.floor(L))            # imprimimos o volume em litros sem a parte decimal, usando math.floor(L)"
      ],
      "execution_count": null,
      "outputs": [
        {
          "output_type": "stream",
          "name": "stdout",
          "text": [
            "267\n"
          ]
        }
      ]
    },
    {
      "cell_type": "markdown",
      "metadata": {
        "id": "xL14LCfI5kM8"
      },
      "source": [
        "# 2(b)"
      ]
    },
    {
      "cell_type": "markdown",
      "metadata": {
        "id": "ul5HigYX5lIT"
      },
      "source": [
        "Transforme e imprima quanto é $267580$ mililitros em litros. Imprima o resultado com três casas decimais."
      ]
    },
    {
      "cell_type": "code",
      "metadata": {
        "id": "zMzgJOjs51XM",
        "colab": {
          "base_uri": "https://localhost:8080/"
        },
        "outputId": "918dc14b-4828-40e1-c5f2-132ebcff4060"
      },
      "source": [
        "M = 267580                       # criamos a variavel chamada M e atribuimos o valor dado para ela\n",
        "L = 267580/1000                  # calculamos o volume em litros dividindo por 1000 (que eh a mesma coisa que multiplicar por 0.001)\n",
        "print(\"%.3f\" %L)                 # imprimimos o volume em litros com 3 casas decimais"
      ],
      "execution_count": null,
      "outputs": [
        {
          "output_type": "stream",
          "name": "stdout",
          "text": [
            "267.580\n"
          ]
        }
      ]
    },
    {
      "cell_type": "markdown",
      "metadata": {
        "id": "aWuQO6SPOcHE"
      },
      "source": [
        "# 3"
      ]
    },
    {
      "cell_type": "markdown",
      "metadata": {
        "id": "_Hn6PaHCOesd"
      },
      "source": [
        "Quantos segundos tem em $2$ dias e $25$ minutos?"
      ]
    },
    {
      "cell_type": "markdown",
      "metadata": {
        "id": "VpIujnsvPCB1"
      },
      "source": [
        "**RESPOSTA**"
      ]
    },
    {
      "cell_type": "markdown",
      "metadata": {
        "id": "Um9WwQRrOj7M"
      },
      "source": [
        "Cada dia tem $24$ horas, cada hora tem $60$ minutos e cada minuto tem $60 $segundos."
      ]
    },
    {
      "cell_type": "code",
      "metadata": {
        "id": "yiOwrtPAO024",
        "colab": {
          "base_uri": "https://localhost:8080/"
        },
        "outputId": "818ced68-ebc2-4e91-df3d-4e53cd4bdf85"
      },
      "source": [
        "D = 2 * 24 * 60 * 60             # calculamos o numero de segundos em 2 dias e atribuimos este valor a variavel D\n",
        "M = 25 * 60                      # calculamos quantos segundos tem em 25 minutos e atribuimos este valor a variavel M\n",
        "print (D + M)                    # imprimimos a soma de valores guardados em D e M"
      ],
      "execution_count": null,
      "outputs": [
        {
          "output_type": "stream",
          "name": "stdout",
          "text": [
            "174300\n"
          ]
        }
      ]
    },
    {
      "cell_type": "markdown",
      "metadata": {
        "id": "tdyKD7jhyY5t"
      },
      "source": [
        "# 4\n",
        "\n",
        "Suponha que capacidade do tanque de gasolina de um  carro (em litros) é 75, e que o consumo de gasolina (em km/l) é 7.7. O seu programa deve imprimir: \"Carro consegue viajar\" xxx \"kilometros com o tanque cheio ate parar.\""
      ]
    },
    {
      "cell_type": "code",
      "metadata": {
        "id": "cM60Dgcmyjh7",
        "colab": {
          "base_uri": "https://localhost:8080/"
        },
        "outputId": "1ec5e443-aba6-439a-f9e1-ed69da27d9dd"
      },
      "source": [
        "Cap =  75                # capacidade\n",
        "Con =  7.7               # consumo\n",
        "resp = Cap * Con         # respsota\n",
        "print (\"Carro consegue viajar\", resp, \"kilometros com o tanque cheio ate parar.\")"
      ],
      "execution_count": null,
      "outputs": [
        {
          "output_type": "stream",
          "name": "stdout",
          "text": [
            "Carro consegue viajar 577.5 kilometros com o tanque cheio ate parar.\n"
          ]
        }
      ]
    },
    {
      "cell_type": "markdown",
      "metadata": {
        "id": "Va92TLAkRiAg"
      },
      "source": [
        "# 5"
      ]
    },
    {
      "cell_type": "markdown",
      "metadata": {
        "id": "OTxjM5lgRkv1"
      },
      "source": [
        "Faça um programa que mostra na tela a média ponderada de um aluno que\n",
        "tirou $87$ pontos na Prova 1 (P1) e $78$ pontos na Prova 2 (P2), considerando que o peso da P1 é $2.5$ e o peso da P2 é $4.0$ (portanto a soma dos pesos é $6.5$).\n"
      ]
    },
    {
      "cell_type": "markdown",
      "metadata": {
        "id": "Xs6JqLzsUbiu"
      },
      "source": [
        "**RESPOSTA**"
      ]
    },
    {
      "cell_type": "code",
      "metadata": {
        "id": "zL7H65FUWlTj",
        "colab": {
          "base_uri": "https://localhost:8080/"
        },
        "outputId": "fe86209c-645b-4357-f3e4-53d8f189d49e"
      },
      "source": [
        "P1 = 87                          # criamos a variavel P1 e atribuimos o valor 87 a ela\n",
        "P2 = 78                          # criamos a variavel P2 e atribuimos o valor 78 a ela\n",
        "MP = (P1*2.5 + P2*4.0) / 6.5     # calculamos o valor de media ponderada\n",
        "print(MP)                        # imprimimos o valor de media ponderada (sem o limite de casas decimais)"
      ],
      "execution_count": null,
      "outputs": [
        {
          "output_type": "stream",
          "name": "stdout",
          "text": [
            "81.46153846153847\n"
          ]
        }
      ]
    },
    {
      "cell_type": "markdown",
      "metadata": {
        "id": "8J4bOxV45E9j"
      },
      "source": [
        "# 6"
      ]
    },
    {
      "cell_type": "markdown",
      "metadata": {
        "id": "NHQc8mis52js"
      },
      "source": [
        "Um investidor depositou uma quantia na poupança, que rende $p$ porcento ao mês. Ajude o investidor a calcular quanto ele terá depois de 11 meses, supondo que\n",
        "\n",
        "quantia depositada $d$ = 200 R$;\n",
        "\n",
        "taxa de rendimento da poupança $p$ = 0.13;\n",
        "\n",
        "numero de meses que o dinheiro ficará rendendo $t$ = 11.\n",
        "\n",
        "Imprima o montante de dinheiro na poupança após os $t$ meses.\n",
        "\n",
        "Lembre-se que a quantia $D$\n",
        "após $t$ meses pode ser calculada por\n",
        "$$D=d*(1+\\frac{p}{100})^t.$$\n"
      ]
    },
    {
      "cell_type": "code",
      "metadata": {
        "id": "wEpze8NF5EHF",
        "colab": {
          "base_uri": "https://localhost:8080/"
        },
        "outputId": "2568e277-7b17-452d-bba9-0cce1a595130"
      },
      "source": [
        "d = 200\n",
        "p = 0.13\n",
        "t = 11\n",
        "D = d * ((1+p/100)**t)\n",
        "print (D)"
      ],
      "execution_count": null,
      "outputs": [
        {
          "output_type": "stream",
          "name": "stdout",
          "text": [
            "202.87866268984632\n"
          ]
        }
      ]
    },
    {
      "cell_type": "markdown",
      "metadata": {
        "id": "XKQpnt0w5Ej9"
      },
      "source": [
        "\n",
        "# 7 - Extra"
      ]
    },
    {
      "cell_type": "markdown",
      "metadata": {
        "id": "rd7KiLOj5GYS"
      },
      "source": [
        "O cliente de uma empresa gostaria de um programa que convertesse $10000$\n",
        "segundos em horas, minutos e segundos. Faça esse programa.\n",
        "\n",
        "Dica: use os operadores de divisão inteira `//` e resto `%`."
      ]
    },
    {
      "cell_type": "markdown",
      "metadata": {
        "id": "ITay6pRO5VXJ"
      },
      "source": [
        "**RESPOSTA**"
      ]
    },
    {
      "cell_type": "markdown",
      "metadata": {
        "id": "6ogx8dwd6e2O"
      },
      "source": [
        "Cada hora tem $60$ minutos e cada minuto tem $60$ segundos. Portanto, cada hora tem $60*60 = 3600$ segundos. Logo, o número de horas em S=10000 segundos é `S//3600` (usamos divisão inteira para ver quantas horas \"cabe\" em S segundos).\n",
        "\n",
        "Seja R o resto de divisão de $S$ por $3600$, ou seja, o número de segundos que sobraram.\n",
        "\n",
        "Cada minuto tem $60$ segundos. Portanto, o número de minutos em R é `R//60`.\n",
        "Usamos a divisão inteira para ver quantos minutos \"cabem\" em R.\n",
        "\n",
        "Finalmente, o número de segundos que sobraram é o resto da divisão de $R$ por $60$.\n",
        "\n",
        "\n"
      ]
    },
    {
      "cell_type": "code",
      "metadata": {
        "id": "ZpTfpKWf0WEO",
        "colab": {
          "base_uri": "https://localhost:8080/"
        },
        "outputId": "682b8248-9ecb-4b02-e035-65bca7378b24"
      },
      "source": [
        "S = 825020                        # criamos a variavel chamada S e atribuimos o valor 10000 para ela\n",
        "H = S//3600                      # calculamos o numero de horas e atribuimos este valor a variavel H\n",
        "R = S%3600                       # calculamos o numero de segundos que \"sobraram\"\n",
        "M = R//60                        # calculamos o numero de minutos e atribuimos este valor a variavel M\n",
        "s = R%60                         # calculamos o valor de número de segundos que \"sobraram\" e atribuimos a variavel S. Note que neste momento, a variavel S nao tem mais o valor antigo que era 10000.\n",
        "print (S, \"segundos tem\", H, \"horas,\", M, \"minutos e\", s, \"segundos\")               # imprimimos o resultado"
      ],
      "execution_count": null,
      "outputs": [
        {
          "output_type": "stream",
          "name": "stdout",
          "text": [
            "825020 segundos tem 229 horas, 10 minutos e 20 segundos\n"
          ]
        }
      ]
    },
    {
      "cell_type": "markdown",
      "metadata": {
        "id": "KHKTyhNYB1Oy"
      },
      "source": [
        "Um outro modo de fazer seria."
      ]
    },
    {
      "cell_type": "code",
      "metadata": {
        "id": "top-3EXSB9CE",
        "colab": {
          "base_uri": "https://localhost:8080/"
        },
        "outputId": "eb4a81cc-1a72-49cc-e32a-9d57cd7ea28b"
      },
      "source": [
        "S = 654782                        # criamos a variavel chamada S e atribuimos o valor 10000 para ela\n",
        "Seg = S%60                        # calculamos o numero de segundos em S (quando convertido em horas, minutos e segundos) e atribuimos este valor a variavel Seg\n",
        "S = S//60                         # atualizamos o valor de S. Obs: O valor de S nao eh mais 10000, mas o valor de S//60\n",
        "Min = S%60                        # calculamos o numero de minutos (quando 10000 segundos eh convertido em horas, minutos e segundose) e atribuimos este valor a variavel Min\n",
        "S=S//60                           # atualizamos o valor de S\n",
        "Hor = S%24                        # calculamos o numero de horas (quando 10000 segundos eh convertido em horas, minutos e segundos) e atribuimos este valor a variavel Hor.\n",
        "print (10000, \"segundos tem\", Hor, \"horas,\", Min, \"minutos e\", Seg, \"segundos\")               # imprimimos o resultado"
      ],
      "execution_count": null,
      "outputs": [
        {
          "output_type": "stream",
          "name": "stdout",
          "text": [
            "10000 segundos tem 13 horas, 53 minutos e 2 segundos\n"
          ]
        }
      ]
    },
    {
      "cell_type": "markdown",
      "metadata": {
        "id": "eOn0vOfZ_JjP"
      },
      "source": [
        "Note que todos os valores no código acima são inteiros."
      ]
    },
    {
      "cell_type": "markdown",
      "metadata": {
        "id": "MWIjnKqxc5No"
      },
      "source": [
        "Note também que em código acima criar a variável S e atribuir o valor $1000$ a $S$ foi bem útil.\n",
        "\n",
        "\n",
        "Note também que **o programa vai funcionar para qualquer outro número de segundos**\n",
        "\n",
        "(**basta apenas mudar a primeira linha de programa** e atribuir o novo valor à $S$)."
      ]
    }
  ]
}