{
  "nbformat": 4,
  "nbformat_minor": 0,
  "metadata": {
    "colab": {
      "provenance": []
    },
    "kernelspec": {
      "name": "python3",
      "display_name": "Python 3"
    }
  },
  "cells": [
    {
      "cell_type": "markdown",
      "source": [
        "# APLICAÇÕES I"
      ],
      "metadata": {
        "id": "kmw6TIQlHlG9"
      }
    },
    {
      "cell_type": "markdown",
      "source": [
        "### Serão tratado os topicos a seguir\n",
        "\n",
        "*   Coletar dados JSON com Pandas usando uma URL\n",
        "*   Converter JSON para CSV e gravar\n",
        "\n"
      ],
      "metadata": {
        "id": "oyLIOPTGJLSo"
      }
    },
    {
      "cell_type": "markdown",
      "source": [
        "JSON Info\n",
        "\n",
        "https://en.wikipedia.org/wiki/JSON\n"
      ],
      "metadata": {
        "id": "Kn-W_KgWHNUz"
      }
    },
    {
      "cell_type": "markdown",
      "source": [
        "Coletar dados em formato JSON dentro de um DataFrame Pandas\n",
        "Gravar um DataFrame em formato CSV dentro do proprio Google Drive\n"
      ],
      "metadata": {
        "id": "wiTD_JXhH5pr"
      }
    },
    {
      "cell_type": "code",
      "source": [
        "# Antes de usar o proprio Google Drive no Colab preciso 'montar' ele na sessão de trabalho\n",
        "from google.colab import drive\n",
        "drive.mount('/content/drive')"
      ],
      "metadata": {
        "colab": {
          "base_uri": "https://localhost:8080/"
        },
        "id": "3GvOC3V3bPRw",
        "outputId": "a8e4cfe8-a4bc-4a54-c03d-a0b149e87438"
      },
      "execution_count": null,
      "outputs": [
        {
          "output_type": "stream",
          "name": "stdout",
          "text": [
            "Mounted at /content/drive\n"
          ]
        }
      ]
    },
    {
      "cell_type": "code",
      "source": [
        "# Captura dos dados a partir de um URL\n",
        "import pandas as pd\n",
        "df = pd.read_json('https://bitpay.com/api/rates')"
      ],
      "metadata": {
        "id": "uWLkr5XDiO_4"
      },
      "execution_count": null,
      "outputs": []
    },
    {
      "cell_type": "code",
      "source": [
        "# Previa da coleta realizada para verificar a estrutura\n",
        "df.head()"
      ],
      "metadata": {
        "colab": {
          "base_uri": "https://localhost:8080/",
          "height": 206
        },
        "id": "XSiBJJo3JAej",
        "outputId": "6206bb85-902a-4570-a7db-eaba35f21f75"
      },
      "execution_count": null,
      "outputs": [
        {
          "output_type": "execute_result",
          "data": {
            "text/plain": [
              "  code            name      rate\n",
              "0  BTC         Bitcoin      1.00\n",
              "1  BCH    Bitcoin Cash    143.46\n",
              "2  USD       US Dollar  16334.54\n",
              "3  EUR   Eurozone Euro  15699.42\n",
              "4  GBP  Pound Sterling  13500.57"
            ],
            "text/html": [
              "\n",
              "  <div id=\"df-28136d40-30e5-47c2-8ae7-f42805e346c3\">\n",
              "    <div class=\"colab-df-container\">\n",
              "      <div>\n",
              "<style scoped>\n",
              "    .dataframe tbody tr th:only-of-type {\n",
              "        vertical-align: middle;\n",
              "    }\n",
              "\n",
              "    .dataframe tbody tr th {\n",
              "        vertical-align: top;\n",
              "    }\n",
              "\n",
              "    .dataframe thead th {\n",
              "        text-align: right;\n",
              "    }\n",
              "</style>\n",
              "<table border=\"1\" class=\"dataframe\">\n",
              "  <thead>\n",
              "    <tr style=\"text-align: right;\">\n",
              "      <th></th>\n",
              "      <th>code</th>\n",
              "      <th>name</th>\n",
              "      <th>rate</th>\n",
              "    </tr>\n",
              "  </thead>\n",
              "  <tbody>\n",
              "    <tr>\n",
              "      <th>0</th>\n",
              "      <td>BTC</td>\n",
              "      <td>Bitcoin</td>\n",
              "      <td>1.00</td>\n",
              "    </tr>\n",
              "    <tr>\n",
              "      <th>1</th>\n",
              "      <td>BCH</td>\n",
              "      <td>Bitcoin Cash</td>\n",
              "      <td>143.46</td>\n",
              "    </tr>\n",
              "    <tr>\n",
              "      <th>2</th>\n",
              "      <td>USD</td>\n",
              "      <td>US Dollar</td>\n",
              "      <td>16334.54</td>\n",
              "    </tr>\n",
              "    <tr>\n",
              "      <th>3</th>\n",
              "      <td>EUR</td>\n",
              "      <td>Eurozone Euro</td>\n",
              "      <td>15699.42</td>\n",
              "    </tr>\n",
              "    <tr>\n",
              "      <th>4</th>\n",
              "      <td>GBP</td>\n",
              "      <td>Pound Sterling</td>\n",
              "      <td>13500.57</td>\n",
              "    </tr>\n",
              "  </tbody>\n",
              "</table>\n",
              "</div>\n",
              "      <button class=\"colab-df-convert\" onclick=\"convertToInteractive('df-28136d40-30e5-47c2-8ae7-f42805e346c3')\"\n",
              "              title=\"Convert this dataframe to an interactive table.\"\n",
              "              style=\"display:none;\">\n",
              "        \n",
              "  <svg xmlns=\"http://www.w3.org/2000/svg\" height=\"24px\"viewBox=\"0 0 24 24\"\n",
              "       width=\"24px\">\n",
              "    <path d=\"M0 0h24v24H0V0z\" fill=\"none\"/>\n",
              "    <path d=\"M18.56 5.44l.94 2.06.94-2.06 2.06-.94-2.06-.94-.94-2.06-.94 2.06-2.06.94zm-11 1L8.5 8.5l.94-2.06 2.06-.94-2.06-.94L8.5 2.5l-.94 2.06-2.06.94zm10 10l.94 2.06.94-2.06 2.06-.94-2.06-.94-.94-2.06-.94 2.06-2.06.94z\"/><path d=\"M17.41 7.96l-1.37-1.37c-.4-.4-.92-.59-1.43-.59-.52 0-1.04.2-1.43.59L10.3 9.45l-7.72 7.72c-.78.78-.78 2.05 0 2.83L4 21.41c.39.39.9.59 1.41.59.51 0 1.02-.2 1.41-.59l7.78-7.78 2.81-2.81c.8-.78.8-2.07 0-2.86zM5.41 20L4 18.59l7.72-7.72 1.47 1.35L5.41 20z\"/>\n",
              "  </svg>\n",
              "      </button>\n",
              "      \n",
              "  <style>\n",
              "    .colab-df-container {\n",
              "      display:flex;\n",
              "      flex-wrap:wrap;\n",
              "      gap: 12px;\n",
              "    }\n",
              "\n",
              "    .colab-df-convert {\n",
              "      background-color: #E8F0FE;\n",
              "      border: none;\n",
              "      border-radius: 50%;\n",
              "      cursor: pointer;\n",
              "      display: none;\n",
              "      fill: #1967D2;\n",
              "      height: 32px;\n",
              "      padding: 0 0 0 0;\n",
              "      width: 32px;\n",
              "    }\n",
              "\n",
              "    .colab-df-convert:hover {\n",
              "      background-color: #E2EBFA;\n",
              "      box-shadow: 0px 1px 2px rgba(60, 64, 67, 0.3), 0px 1px 3px 1px rgba(60, 64, 67, 0.15);\n",
              "      fill: #174EA6;\n",
              "    }\n",
              "\n",
              "    [theme=dark] .colab-df-convert {\n",
              "      background-color: #3B4455;\n",
              "      fill: #D2E3FC;\n",
              "    }\n",
              "\n",
              "    [theme=dark] .colab-df-convert:hover {\n",
              "      background-color: #434B5C;\n",
              "      box-shadow: 0px 1px 3px 1px rgba(0, 0, 0, 0.15);\n",
              "      filter: drop-shadow(0px 1px 2px rgba(0, 0, 0, 0.3));\n",
              "      fill: #FFFFFF;\n",
              "    }\n",
              "  </style>\n",
              "\n",
              "      <script>\n",
              "        const buttonEl =\n",
              "          document.querySelector('#df-28136d40-30e5-47c2-8ae7-f42805e346c3 button.colab-df-convert');\n",
              "        buttonEl.style.display =\n",
              "          google.colab.kernel.accessAllowed ? 'block' : 'none';\n",
              "\n",
              "        async function convertToInteractive(key) {\n",
              "          const element = document.querySelector('#df-28136d40-30e5-47c2-8ae7-f42805e346c3');\n",
              "          const dataTable =\n",
              "            await google.colab.kernel.invokeFunction('convertToInteractive',\n",
              "                                                     [key], {});\n",
              "          if (!dataTable) return;\n",
              "\n",
              "          const docLinkHtml = 'Like what you see? Visit the ' +\n",
              "            '<a target=\"_blank\" href=https://colab.research.google.com/notebooks/data_table.ipynb>data table notebook</a>'\n",
              "            + ' to learn more about interactive tables.';\n",
              "          element.innerHTML = '';\n",
              "          dataTable['output_type'] = 'display_data';\n",
              "          await google.colab.output.renderOutput(dataTable, element);\n",
              "          const docLink = document.createElement('div');\n",
              "          docLink.innerHTML = docLinkHtml;\n",
              "          element.appendChild(docLink);\n",
              "        }\n",
              "      </script>\n",
              "    </div>\n",
              "  </div>\n",
              "  "
            ]
          },
          "metadata": {},
          "execution_count": 3
        }
      ]
    },
    {
      "cell_type": "markdown",
      "source": [
        "![image.png](data:image/png;base64,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)"
      ],
      "metadata": {
        "id": "uRKVwe7bVFgk"
      }
    },
    {
      "cell_type": "code",
      "source": [
        "# Busca visual pelo filtro\n",
        "df"
      ],
      "metadata": {
        "colab": {
          "base_uri": "https://localhost:8080/",
          "height": 423
        },
        "id": "FN2kDmKKUo9p",
        "outputId": "ce2b2db8-a718-41f5-d8e1-9d004bd94517"
      },
      "execution_count": null,
      "outputs": [
        {
          "output_type": "execute_result",
          "data": {
            "text/plain": [
              "    code                name         rate\n",
              "0    BTC             Bitcoin         1.00\n",
              "1    BCH        Bitcoin Cash       143.46\n",
              "2    USD           US Dollar     16334.54\n",
              "3    EUR       Eurozone Euro     15699.42\n",
              "4    GBP      Pound Sterling     13500.57\n",
              "..   ...                 ...          ...\n",
              "178  XOF     CFA Franc BCEAO  10297834.13\n",
              "179  YER         Yemeni Rial   4086904.48\n",
              "180  ZAR  South African Rand    279286.41\n",
              "181  ZMW      Zambian Kwacha    276360.65\n",
              "182  ZWL   Zimbabwean Dollar   5259723.36\n",
              "\n",
              "[183 rows x 3 columns]"
            ],
            "text/html": [
              "\n",
              "  <div id=\"df-fa53c27e-5ef6-4361-a99c-b9bbef92c868\">\n",
              "    <div class=\"colab-df-container\">\n",
              "      <div>\n",
              "<style scoped>\n",
              "    .dataframe tbody tr th:only-of-type {\n",
              "        vertical-align: middle;\n",
              "    }\n",
              "\n",
              "    .dataframe tbody tr th {\n",
              "        vertical-align: top;\n",
              "    }\n",
              "\n",
              "    .dataframe thead th {\n",
              "        text-align: right;\n",
              "    }\n",
              "</style>\n",
              "<table border=\"1\" class=\"dataframe\">\n",
              "  <thead>\n",
              "    <tr style=\"text-align: right;\">\n",
              "      <th></th>\n",
              "      <th>code</th>\n",
              "      <th>name</th>\n",
              "      <th>rate</th>\n",
              "    </tr>\n",
              "  </thead>\n",
              "  <tbody>\n",
              "    <tr>\n",
              "      <th>0</th>\n",
              "      <td>BTC</td>\n",
              "      <td>Bitcoin</td>\n",
              "      <td>1.00</td>\n",
              "    </tr>\n",
              "    <tr>\n",
              "      <th>1</th>\n",
              "      <td>BCH</td>\n",
              "      <td>Bitcoin Cash</td>\n",
              "      <td>143.46</td>\n",
              "    </tr>\n",
              "    <tr>\n",
              "      <th>2</th>\n",
              "      <td>USD</td>\n",
              "      <td>US Dollar</td>\n",
              "      <td>16334.54</td>\n",
              "    </tr>\n",
              "    <tr>\n",
              "      <th>3</th>\n",
              "      <td>EUR</td>\n",
              "      <td>Eurozone Euro</td>\n",
              "      <td>15699.42</td>\n",
              "    </tr>\n",
              "    <tr>\n",
              "      <th>4</th>\n",
              "      <td>GBP</td>\n",
              "      <td>Pound Sterling</td>\n",
              "      <td>13500.57</td>\n",
              "    </tr>\n",
              "    <tr>\n",
              "      <th>...</th>\n",
              "      <td>...</td>\n",
              "      <td>...</td>\n",
              "      <td>...</td>\n",
              "    </tr>\n",
              "    <tr>\n",
              "      <th>178</th>\n",
              "      <td>XOF</td>\n",
              "      <td>CFA Franc BCEAO</td>\n",
              "      <td>10297834.13</td>\n",
              "    </tr>\n",
              "    <tr>\n",
              "      <th>179</th>\n",
              "      <td>YER</td>\n",
              "      <td>Yemeni Rial</td>\n",
              "      <td>4086904.48</td>\n",
              "    </tr>\n",
              "    <tr>\n",
              "      <th>180</th>\n",
              "      <td>ZAR</td>\n",
              "      <td>South African Rand</td>\n",
              "      <td>279286.41</td>\n",
              "    </tr>\n",
              "    <tr>\n",
              "      <th>181</th>\n",
              "      <td>ZMW</td>\n",
              "      <td>Zambian Kwacha</td>\n",
              "      <td>276360.65</td>\n",
              "    </tr>\n",
              "    <tr>\n",
              "      <th>182</th>\n",
              "      <td>ZWL</td>\n",
              "      <td>Zimbabwean Dollar</td>\n",
              "      <td>5259723.36</td>\n",
              "    </tr>\n",
              "  </tbody>\n",
              "</table>\n",
              "<p>183 rows × 3 columns</p>\n",
              "</div>\n",
              "      <button class=\"colab-df-convert\" onclick=\"convertToInteractive('df-fa53c27e-5ef6-4361-a99c-b9bbef92c868')\"\n",
              "              title=\"Convert this dataframe to an interactive table.\"\n",
              "              style=\"display:none;\">\n",
              "        \n",
              "  <svg xmlns=\"http://www.w3.org/2000/svg\" height=\"24px\"viewBox=\"0 0 24 24\"\n",
              "       width=\"24px\">\n",
              "    <path d=\"M0 0h24v24H0V0z\" fill=\"none\"/>\n",
              "    <path d=\"M18.56 5.44l.94 2.06.94-2.06 2.06-.94-2.06-.94-.94-2.06-.94 2.06-2.06.94zm-11 1L8.5 8.5l.94-2.06 2.06-.94-2.06-.94L8.5 2.5l-.94 2.06-2.06.94zm10 10l.94 2.06.94-2.06 2.06-.94-2.06-.94-.94-2.06-.94 2.06-2.06.94z\"/><path d=\"M17.41 7.96l-1.37-1.37c-.4-.4-.92-.59-1.43-.59-.52 0-1.04.2-1.43.59L10.3 9.45l-7.72 7.72c-.78.78-.78 2.05 0 2.83L4 21.41c.39.39.9.59 1.41.59.51 0 1.02-.2 1.41-.59l7.78-7.78 2.81-2.81c.8-.78.8-2.07 0-2.86zM5.41 20L4 18.59l7.72-7.72 1.47 1.35L5.41 20z\"/>\n",
              "  </svg>\n",
              "      </button>\n",
              "      \n",
              "  <style>\n",
              "    .colab-df-container {\n",
              "      display:flex;\n",
              "      flex-wrap:wrap;\n",
              "      gap: 12px;\n",
              "    }\n",
              "\n",
              "    .colab-df-convert {\n",
              "      background-color: #E8F0FE;\n",
              "      border: none;\n",
              "      border-radius: 50%;\n",
              "      cursor: pointer;\n",
              "      display: none;\n",
              "      fill: #1967D2;\n",
              "      height: 32px;\n",
              "      padding: 0 0 0 0;\n",
              "      width: 32px;\n",
              "    }\n",
              "\n",
              "    .colab-df-convert:hover {\n",
              "      background-color: #E2EBFA;\n",
              "      box-shadow: 0px 1px 2px rgba(60, 64, 67, 0.3), 0px 1px 3px 1px rgba(60, 64, 67, 0.15);\n",
              "      fill: #174EA6;\n",
              "    }\n",
              "\n",
              "    [theme=dark] .colab-df-convert {\n",
              "      background-color: #3B4455;\n",
              "      fill: #D2E3FC;\n",
              "    }\n",
              "\n",
              "    [theme=dark] .colab-df-convert:hover {\n",
              "      background-color: #434B5C;\n",
              "      box-shadow: 0px 1px 3px 1px rgba(0, 0, 0, 0.15);\n",
              "      filter: drop-shadow(0px 1px 2px rgba(0, 0, 0, 0.3));\n",
              "      fill: #FFFFFF;\n",
              "    }\n",
              "  </style>\n",
              "\n",
              "      <script>\n",
              "        const buttonEl =\n",
              "          document.querySelector('#df-fa53c27e-5ef6-4361-a99c-b9bbef92c868 button.colab-df-convert');\n",
              "        buttonEl.style.display =\n",
              "          google.colab.kernel.accessAllowed ? 'block' : 'none';\n",
              "\n",
              "        async function convertToInteractive(key) {\n",
              "          const element = document.querySelector('#df-fa53c27e-5ef6-4361-a99c-b9bbef92c868');\n",
              "          const dataTable =\n",
              "            await google.colab.kernel.invokeFunction('convertToInteractive',\n",
              "                                                     [key], {});\n",
              "          if (!dataTable) return;\n",
              "\n",
              "          const docLinkHtml = 'Like what you see? Visit the ' +\n",
              "            '<a target=\"_blank\" href=https://colab.research.google.com/notebooks/data_table.ipynb>data table notebook</a>'\n",
              "            + ' to learn more about interactive tables.';\n",
              "          element.innerHTML = '';\n",
              "          dataTable['output_type'] = 'display_data';\n",
              "          await google.colab.output.renderOutput(dataTable, element);\n",
              "          const docLink = document.createElement('div');\n",
              "          docLink.innerHTML = docLinkHtml;\n",
              "          element.appendChild(docLink);\n",
              "        }\n",
              "      </script>\n",
              "    </div>\n",
              "  </div>\n",
              "  "
            ]
          },
          "metadata": {},
          "execution_count": 4
        }
      ]
    },
    {
      "cell_type": "code",
      "source": [
        "# Print da linha BRL procurada para conferencia\n",
        "df[38:39]"
      ],
      "metadata": {
        "colab": {
          "base_uri": "https://localhost:8080/",
          "height": 81
        },
        "id": "siDC-rRxO65I",
        "outputId": "e85f24f3-aef0-4f2c-f6fb-27f1b9e6c749"
      },
      "execution_count": null,
      "outputs": [
        {
          "output_type": "execute_result",
          "data": {
            "text/plain": [
              "   code            name      rate\n",
              "38  BRL  Brazilian Real  88138.34"
            ],
            "text/html": [
              "\n",
              "  <div id=\"df-bf446b68-3237-4500-afce-e4459f7a2a5b\">\n",
              "    <div class=\"colab-df-container\">\n",
              "      <div>\n",
              "<style scoped>\n",
              "    .dataframe tbody tr th:only-of-type {\n",
              "        vertical-align: middle;\n",
              "    }\n",
              "\n",
              "    .dataframe tbody tr th {\n",
              "        vertical-align: top;\n",
              "    }\n",
              "\n",
              "    .dataframe thead th {\n",
              "        text-align: right;\n",
              "    }\n",
              "</style>\n",
              "<table border=\"1\" class=\"dataframe\">\n",
              "  <thead>\n",
              "    <tr style=\"text-align: right;\">\n",
              "      <th></th>\n",
              "      <th>code</th>\n",
              "      <th>name</th>\n",
              "      <th>rate</th>\n",
              "    </tr>\n",
              "  </thead>\n",
              "  <tbody>\n",
              "    <tr>\n",
              "      <th>38</th>\n",
              "      <td>BRL</td>\n",
              "      <td>Brazilian Real</td>\n",
              "      <td>88138.34</td>\n",
              "    </tr>\n",
              "  </tbody>\n",
              "</table>\n",
              "</div>\n",
              "      <button class=\"colab-df-convert\" onclick=\"convertToInteractive('df-bf446b68-3237-4500-afce-e4459f7a2a5b')\"\n",
              "              title=\"Convert this dataframe to an interactive table.\"\n",
              "              style=\"display:none;\">\n",
              "        \n",
              "  <svg xmlns=\"http://www.w3.org/2000/svg\" height=\"24px\"viewBox=\"0 0 24 24\"\n",
              "       width=\"24px\">\n",
              "    <path d=\"M0 0h24v24H0V0z\" fill=\"none\"/>\n",
              "    <path d=\"M18.56 5.44l.94 2.06.94-2.06 2.06-.94-2.06-.94-.94-2.06-.94 2.06-2.06.94zm-11 1L8.5 8.5l.94-2.06 2.06-.94-2.06-.94L8.5 2.5l-.94 2.06-2.06.94zm10 10l.94 2.06.94-2.06 2.06-.94-2.06-.94-.94-2.06-.94 2.06-2.06.94z\"/><path d=\"M17.41 7.96l-1.37-1.37c-.4-.4-.92-.59-1.43-.59-.52 0-1.04.2-1.43.59L10.3 9.45l-7.72 7.72c-.78.78-.78 2.05 0 2.83L4 21.41c.39.39.9.59 1.41.59.51 0 1.02-.2 1.41-.59l7.78-7.78 2.81-2.81c.8-.78.8-2.07 0-2.86zM5.41 20L4 18.59l7.72-7.72 1.47 1.35L5.41 20z\"/>\n",
              "  </svg>\n",
              "      </button>\n",
              "      \n",
              "  <style>\n",
              "    .colab-df-container {\n",
              "      display:flex;\n",
              "      flex-wrap:wrap;\n",
              "      gap: 12px;\n",
              "    }\n",
              "\n",
              "    .colab-df-convert {\n",
              "      background-color: #E8F0FE;\n",
              "      border: none;\n",
              "      border-radius: 50%;\n",
              "      cursor: pointer;\n",
              "      display: none;\n",
              "      fill: #1967D2;\n",
              "      height: 32px;\n",
              "      padding: 0 0 0 0;\n",
              "      width: 32px;\n",
              "    }\n",
              "\n",
              "    .colab-df-convert:hover {\n",
              "      background-color: #E2EBFA;\n",
              "      box-shadow: 0px 1px 2px rgba(60, 64, 67, 0.3), 0px 1px 3px 1px rgba(60, 64, 67, 0.15);\n",
              "      fill: #174EA6;\n",
              "    }\n",
              "\n",
              "    [theme=dark] .colab-df-convert {\n",
              "      background-color: #3B4455;\n",
              "      fill: #D2E3FC;\n",
              "    }\n",
              "\n",
              "    [theme=dark] .colab-df-convert:hover {\n",
              "      background-color: #434B5C;\n",
              "      box-shadow: 0px 1px 3px 1px rgba(0, 0, 0, 0.15);\n",
              "      filter: drop-shadow(0px 1px 2px rgba(0, 0, 0, 0.3));\n",
              "      fill: #FFFFFF;\n",
              "    }\n",
              "  </style>\n",
              "\n",
              "      <script>\n",
              "        const buttonEl =\n",
              "          document.querySelector('#df-bf446b68-3237-4500-afce-e4459f7a2a5b button.colab-df-convert');\n",
              "        buttonEl.style.display =\n",
              "          google.colab.kernel.accessAllowed ? 'block' : 'none';\n",
              "\n",
              "        async function convertToInteractive(key) {\n",
              "          const element = document.querySelector('#df-bf446b68-3237-4500-afce-e4459f7a2a5b');\n",
              "          const dataTable =\n",
              "            await google.colab.kernel.invokeFunction('convertToInteractive',\n",
              "                                                     [key], {});\n",
              "          if (!dataTable) return;\n",
              "\n",
              "          const docLinkHtml = 'Like what you see? Visit the ' +\n",
              "            '<a target=\"_blank\" href=https://colab.research.google.com/notebooks/data_table.ipynb>data table notebook</a>'\n",
              "            + ' to learn more about interactive tables.';\n",
              "          element.innerHTML = '';\n",
              "          dataTable['output_type'] = 'display_data';\n",
              "          await google.colab.output.renderOutput(dataTable, element);\n",
              "          const docLink = document.createElement('div');\n",
              "          docLink.innerHTML = docLinkHtml;\n",
              "          element.appendChild(docLink);\n",
              "        }\n",
              "      </script>\n",
              "    </div>\n",
              "  </div>\n",
              "  "
            ]
          },
          "metadata": {},
          "execution_count": 8
        }
      ]
    },
    {
      "cell_type": "code",
      "source": [
        "df[2:3]"
      ],
      "metadata": {
        "colab": {
          "base_uri": "https://localhost:8080/",
          "height": 81
        },
        "id": "qKkS8_Qifczv",
        "outputId": "49186071-75f4-4477-d6df-8113fe1bfb91"
      },
      "execution_count": null,
      "outputs": [
        {
          "output_type": "execute_result",
          "data": {
            "text/plain": [
              "  code       name      rate\n",
              "2  USD  US Dollar  16334.54"
            ],
            "text/html": [
              "\n",
              "  <div id=\"df-05ce434b-abb4-49bc-8e85-213e453675f3\">\n",
              "    <div class=\"colab-df-container\">\n",
              "      <div>\n",
              "<style scoped>\n",
              "    .dataframe tbody tr th:only-of-type {\n",
              "        vertical-align: middle;\n",
              "    }\n",
              "\n",
              "    .dataframe tbody tr th {\n",
              "        vertical-align: top;\n",
              "    }\n",
              "\n",
              "    .dataframe thead th {\n",
              "        text-align: right;\n",
              "    }\n",
              "</style>\n",
              "<table border=\"1\" class=\"dataframe\">\n",
              "  <thead>\n",
              "    <tr style=\"text-align: right;\">\n",
              "      <th></th>\n",
              "      <th>code</th>\n",
              "      <th>name</th>\n",
              "      <th>rate</th>\n",
              "    </tr>\n",
              "  </thead>\n",
              "  <tbody>\n",
              "    <tr>\n",
              "      <th>2</th>\n",
              "      <td>USD</td>\n",
              "      <td>US Dollar</td>\n",
              "      <td>16334.54</td>\n",
              "    </tr>\n",
              "  </tbody>\n",
              "</table>\n",
              "</div>\n",
              "      <button class=\"colab-df-convert\" onclick=\"convertToInteractive('df-05ce434b-abb4-49bc-8e85-213e453675f3')\"\n",
              "              title=\"Convert this dataframe to an interactive table.\"\n",
              "              style=\"display:none;\">\n",
              "        \n",
              "  <svg xmlns=\"http://www.w3.org/2000/svg\" height=\"24px\"viewBox=\"0 0 24 24\"\n",
              "       width=\"24px\">\n",
              "    <path d=\"M0 0h24v24H0V0z\" fill=\"none\"/>\n",
              "    <path d=\"M18.56 5.44l.94 2.06.94-2.06 2.06-.94-2.06-.94-.94-2.06-.94 2.06-2.06.94zm-11 1L8.5 8.5l.94-2.06 2.06-.94-2.06-.94L8.5 2.5l-.94 2.06-2.06.94zm10 10l.94 2.06.94-2.06 2.06-.94-2.06-.94-.94-2.06-.94 2.06-2.06.94z\"/><path d=\"M17.41 7.96l-1.37-1.37c-.4-.4-.92-.59-1.43-.59-.52 0-1.04.2-1.43.59L10.3 9.45l-7.72 7.72c-.78.78-.78 2.05 0 2.83L4 21.41c.39.39.9.59 1.41.59.51 0 1.02-.2 1.41-.59l7.78-7.78 2.81-2.81c.8-.78.8-2.07 0-2.86zM5.41 20L4 18.59l7.72-7.72 1.47 1.35L5.41 20z\"/>\n",
              "  </svg>\n",
              "      </button>\n",
              "      \n",
              "  <style>\n",
              "    .colab-df-container {\n",
              "      display:flex;\n",
              "      flex-wrap:wrap;\n",
              "      gap: 12px;\n",
              "    }\n",
              "\n",
              "    .colab-df-convert {\n",
              "      background-color: #E8F0FE;\n",
              "      border: none;\n",
              "      border-radius: 50%;\n",
              "      cursor: pointer;\n",
              "      display: none;\n",
              "      fill: #1967D2;\n",
              "      height: 32px;\n",
              "      padding: 0 0 0 0;\n",
              "      width: 32px;\n",
              "    }\n",
              "\n",
              "    .colab-df-convert:hover {\n",
              "      background-color: #E2EBFA;\n",
              "      box-shadow: 0px 1px 2px rgba(60, 64, 67, 0.3), 0px 1px 3px 1px rgba(60, 64, 67, 0.15);\n",
              "      fill: #174EA6;\n",
              "    }\n",
              "\n",
              "    [theme=dark] .colab-df-convert {\n",
              "      background-color: #3B4455;\n",
              "      fill: #D2E3FC;\n",
              "    }\n",
              "\n",
              "    [theme=dark] .colab-df-convert:hover {\n",
              "      background-color: #434B5C;\n",
              "      box-shadow: 0px 1px 3px 1px rgba(0, 0, 0, 0.15);\n",
              "      filter: drop-shadow(0px 1px 2px rgba(0, 0, 0, 0.3));\n",
              "      fill: #FFFFFF;\n",
              "    }\n",
              "  </style>\n",
              "\n",
              "      <script>\n",
              "        const buttonEl =\n",
              "          document.querySelector('#df-05ce434b-abb4-49bc-8e85-213e453675f3 button.colab-df-convert');\n",
              "        buttonEl.style.display =\n",
              "          google.colab.kernel.accessAllowed ? 'block' : 'none';\n",
              "\n",
              "        async function convertToInteractive(key) {\n",
              "          const element = document.querySelector('#df-05ce434b-abb4-49bc-8e85-213e453675f3');\n",
              "          const dataTable =\n",
              "            await google.colab.kernel.invokeFunction('convertToInteractive',\n",
              "                                                     [key], {});\n",
              "          if (!dataTable) return;\n",
              "\n",
              "          const docLinkHtml = 'Like what you see? Visit the ' +\n",
              "            '<a target=\"_blank\" href=https://colab.research.google.com/notebooks/data_table.ipynb>data table notebook</a>'\n",
              "            + ' to learn more about interactive tables.';\n",
              "          element.innerHTML = '';\n",
              "          dataTable['output_type'] = 'display_data';\n",
              "          await google.colab.output.renderOutput(dataTable, element);\n",
              "          const docLink = document.createElement('div');\n",
              "          docLink.innerHTML = docLinkHtml;\n",
              "          element.appendChild(docLink);\n",
              "        }\n",
              "      </script>\n",
              "    </div>\n",
              "  </div>\n",
              "  "
            ]
          },
          "metadata": {},
          "execution_count": 6
        }
      ]
    },
    {
      "cell_type": "code",
      "source": [
        "# Converão do JSON para CSV e gravação no Drive\n",
        "df.to_csv('rates.csv')"
      ],
      "metadata": {
        "id": "q605xoLHIssA"
      },
      "execution_count": null,
      "outputs": []
    },
    {
      "cell_type": "markdown",
      "metadata": {
        "id": "63kX-4DOVcB1"
      },
      "source": [
        "# APLICAÇÂO - DE PROVA 2020\n"
      ]
    },
    {
      "cell_type": "markdown",
      "metadata": {
        "id": "4IWICO262Pxm"
      },
      "source": [
        "#Situação problema\n",
        "\n",
        "Dentro de um periodo de 6h, 4h ou 2h è pedido verificar uma enventual correlação entre a quotações do USD/BTC e BRL/BTC.\n",
        "\n",
        "Devido as variações entre USD e BRL os resultados pode ser diferente conforme a data de execução do teste.\n",
        "\n",
        "Coletar os dados em JSON pelo URL https://bitpay.com/api/rates\n",
        "O periodo de coleta, a quantidades e a periodicidade das requisições são a criterio do aluno.\n",
        "\n",
        "NOTA:::::È recomendado e importante realizar a prova com as ferramentas e as metodologias apresentadas durante o curso. A realização da prova com tecnicas e ferramenta não apresentada no curso poderá necessitar um vista de prova especifica sem garantia de aprovação.\n",
        "\n",
        "Para realizar este teste siga as seguinte etapas.\n",
        "\n",
        "ETAPA 1. - Descritiva - Bloco de texto\n",
        "Descrever o periodo de coleta escolhido, o intevalo de coletas, a quantidade de coletas que serão realizadas no teste. Descrever a estrutura de coleta usada e o tamanho esperado antes de executar o codigo.\n",
        "[Pontos 1]\n",
        "\n",
        "ETAPA 2. - Coleta dados - Bloco de Codigo\n",
        "Realizar o codigo de coleta periodica.\n",
        "Executar a coleta e depois imprimir na tela a estrutura coletada ou um resumo dela.\n",
        "[Pontos 3]\n",
        "\n",
        "ETAPA 3. - Estatistica - Bloco de Codigo\n",
        "Realizar e executar o codigo para calcular a correlacão entre USD/BTC e BRL/BTC acima dos dados coletados.\n",
        "[Pontos 4]\n",
        "\n",
        "ETAPA 4. - Descritiva - Discutir as correlações encontradas(Positiva, negativa, ou nenhuma). [Pontos 2]"
      ]
    },
    {
      "cell_type": "code",
      "source": [
        "\n",
        "\n",
        "import time # Serve para capturar o tempo atual\n",
        "import pandas as pd\n",
        "\n",
        "# Listas vazias a ser preenchidas gradualmente com o mentodo APPEND\n",
        "USD_BTC = [] # Lista de valores de USD/BTC\n",
        "BRL_BTC = [] # Lista de valores de BLR/BTC\n",
        "tempo   = [] # Lista de marcas temporais\n",
        "\n",
        "\n",
        "for i in range(5): #Range para definir a quantidade de comandos repetidos(5 vezes para termos uma amostra razoável)\n",
        "  tempo_atual = time.ctime() # Captura o tempo atual\n",
        "  df = pd.read_json('https://bitpay.com/api/rates') #Código para entrar e buscar informações do site pedido\n",
        "  tempo.append(tempo_atual) # Addiciona mais um elemento no vetor do tempo[] con o metodo append\n",
        "  USD_BTC.append(df.iloc[2,2])  # Addiciona mais um elemento con o metodo append\n",
        "  BRL_BTC.append(df.iloc[38,2])   # Addiciona mais um elemento con o metodo append\n",
        "  print(time.ctime(), ' USD_BTC ',df.iloc[2,2],' BRL_BTC ',df.iloc[38,2]) # Isto mostra os valores na tela\n",
        "  time.sleep(100) # Ciclo do comando(A cada dez segundos a fim de testar o funcionamento de forma prática)\n",
        "\n",
        "\n",
        "\n",
        "\n"
      ],
      "metadata": {
        "id": "luHIY-Iio3OY",
        "outputId": "138a1967-bce0-483d-9f55-66a939f34f04",
        "colab": {
          "base_uri": "https://localhost:8080/"
        }
      },
      "execution_count": null,
      "outputs": [
        {
          "output_type": "stream",
          "name": "stdout",
          "text": [
            "Fri Nov 25 19:05:06 2022  USD_BTC  16317.73  BRL_BTC  88213.67\n",
            "Fri Nov 25 19:06:47 2022  USD_BTC  16320.06  BRL_BTC  88226.25\n",
            "Fri Nov 25 19:08:27 2022  USD_BTC  16322.19  BRL_BTC  88237.76\n",
            "Fri Nov 25 19:10:07 2022  USD_BTC  16326.1  BRL_BTC  88258.88\n",
            "Fri Nov 25 19:11:48 2022  USD_BTC  16327.09  BRL_BTC  88264.25\n"
          ]
        }
      ]
    },
    {
      "cell_type": "code",
      "source": [
        "# Visualiza as coletas\n",
        "print(USD_BTC)\n",
        "print(BRL_BTC)"
      ],
      "metadata": {
        "colab": {
          "base_uri": "https://localhost:8080/"
        },
        "id": "xwcoLKqIlJqH",
        "outputId": "b7246030-6b44-4c55-a75a-7d58bff1418a"
      },
      "execution_count": null,
      "outputs": [
        {
          "output_type": "stream",
          "name": "stdout",
          "text": [
            "[16317.73, 16320.06, 16322.19, 16326.1, 16327.09]\n",
            "[88213.67, 88226.25, 88237.76, 88258.88, 88264.25]\n"
          ]
        }
      ]
    },
    {
      "cell_type": "code",
      "source": [
        "import numpy as np\n",
        "import matplotlib.pyplot as plt\n",
        "\n",
        "plt.plot(USD_BTC,BRL_BTC,'g.')\n",
        "#plt.plot(tempo,BRL_BTC,'b.')\n",
        "#plt.plot(tempo,USD_BTC,'r.')\n",
        "plt.grid(color='y')\n",
        "plt.legend()\n",
        "\n"
      ],
      "metadata": {
        "colab": {
          "base_uri": "https://localhost:8080/",
          "height": 300
        },
        "id": "yiYbK8Zljj9l",
        "outputId": "4e7c7fd3-09a5-4958-ed53-c0ce971a5457"
      },
      "execution_count": null,
      "outputs": [
        {
          "output_type": "stream",
          "name": "stderr",
          "text": [
            "WARNING:matplotlib.legend:No handles with labels found to put in legend.\n"
          ]
        },
        {
          "output_type": "execute_result",
          "data": {
            "text/plain": [
              "<matplotlib.legend.Legend at 0x7fb4e3845210>"
            ]
          },
          "metadata": {},
          "execution_count": 18
        },
        {
          "output_type": "display_data",
          "data": {
            "text/plain": [
              "<Figure size 432x288 with 1 Axes>"
            ],
            "image/png": "[encoded data removed]"
          },
          "metadata": {
            "needs_background": "light"
          }
        }
      ]
    },
    {
      "cell_type": "markdown",
      "source": [
        "## ATIVIDADE\n",
        "\n",
        "Estruturar e completar as etapas do simulado de prova coletando pelo menos 20 elementos a cada 1-2 minutos."
      ],
      "metadata": {
        "id": "-RlkUyfhmKvY"
      }
    }
  ]
}